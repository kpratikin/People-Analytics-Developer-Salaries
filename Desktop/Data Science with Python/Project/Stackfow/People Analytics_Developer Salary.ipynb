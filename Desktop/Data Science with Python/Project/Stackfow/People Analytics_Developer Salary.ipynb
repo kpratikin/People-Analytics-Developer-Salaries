{
 "cells": [
  {
   "cell_type": "markdown",
   "metadata": {},
   "source": [
    "# Project : Stack Overflow 2018 Developer Survey"
   ]
  },
  {
   "cell_type": "markdown",
   "metadata": {},
   "source": [
    "<b>Group Members (Group 23):\n",
    "    <ol><li>Xin Zou\n",
    "    <li>Qing Zhang\n",
    "    <li>Pratik Khandelwal"
   ]
  },
  {
   "cell_type": "markdown",
   "metadata": {},
   "source": [
    "# Question"
   ]
  },
  {
   "cell_type": "markdown",
   "metadata": {},
   "source": [
    "If you are a developer and wanted to know <br>\n",
    "<b>What parameters will get you a higher pay?"
   ]
  },
  {
   "cell_type": "markdown",
   "metadata": {},
   "source": [
    "# <U> 1. Dataset Description"
   ]
  },
  {
   "cell_type": "markdown",
   "metadata": {},
   "source": [
    "In order to come up with the solution. We have choosen<b> 'Stack Overflow 2018 Developer Survey'.</b> Each year, Stack Overflow asks the developer community about everything from their favorite technologies, salaries to their job preferences. As 'Stack Overflow' is widely used by the developers, this dataset is most suitable to analyse salaries across various parameters.\n",
    "\n",
    "Datset consists of 98,855 responses in 129 columns. <b>Each row represents a survey response by a developers.</b> Though the dataset contains lots of columns, we are interested in the below columns - \n",
    "\n",
    "<ul><li><b>Converted Salary</b> - Annual Salary in $ (for each developer).</b>\n",
    "<li><b>Education</b> - Education level of the developer who filled this survey.\n",
    "<li><b>Years Coding Professionally</b> - Number of years since coding professionally.\n",
    "<li><b>Last New Job - </b> When was the last time that you took a job with a new employer? (in years)\n",
    "<li><b>Technical Skills Areas</b>\n",
    "<ul>\n",
    "        <li><b>DevType</b> -Development Types.\n",
    "        <li><b>Language Worked With</b> - Which programming, scripting, and markup languages you worked in past.\n",
    "        <li><b>Database Worked With </b> - Database environments that you have worked in.\n",
    "        <li><b>Platform Worked With </b> - Platforms that you have worked in.\n",
    "        <li><b>Framework Worked With</b> - Libraries, frameworks, and tools that you have worked in.\n",
    "        <li><b>IDE</b> - Development environment(s) you use regularly. </ul>\n",
    "<li><b>Gender</b> - Your gender.\n",
    "<li><b>Country</b> - Your current resident country. (Data is from 189 countries)</ul>\n"
   ]
  },
  {
   "cell_type": "markdown",
   "metadata": {},
   "source": [
    "# <U>2. Data Preparation"
   ]
  },
  {
   "cell_type": "markdown",
   "metadata": {},
   "source": [
    "Import libraries and reading the data file ('survey_results_public.csv')."
   ]
  },
  {
   "cell_type": "code",
   "execution_count": 34,
   "metadata": {},
   "outputs": [
    {
     "name": "stdout",
     "output_type": "stream",
     "text": [
      "Populating the interactive namespace from numpy and matplotlib\n"
     ]
    }
   ],
   "source": [
    "import pandas as pd\n",
    "import numpy as np\n",
    "import seaborn as sns\n",
    "%pylab inline\n",
    "\n",
    "import sklearn as sk\n",
    "import sklearn.tree as tree\n",
    "from IPython.display import Image  \n",
    "import pydotplus\n",
    "\n",
    "import warnings\n",
    "warnings.filterwarnings('ignore')\n",
    "\n",
    "# print all the outputs in a cell\n",
    "from IPython.core.interactiveshell import InteractiveShell\n",
    "InteractiveShell.ast_node_interactivity = \"all\"\n",
    "\n",
    "df = pd.read_csv('survey_results_public.csv',encoding = \"ISO-8859-1\")"
   ]
  },
  {
   "cell_type": "markdown",
   "metadata": {},
   "source": [
    "Retriving the desired columns which we are going to use in our analysis."
   ]
  },
  {
   "cell_type": "code",
   "execution_count": 99,
   "metadata": {},
   "outputs": [],
   "source": [
    "col_list1 = ['Country','Employment','FormalEducation','Age','UndergradMajor','LastNewJob',\\\n",
    "            'YearsCodingProf','ConvertedSalary','DevType',\\\n",
    "           'LanguageWorkedWith','DatabaseWorkedWith','PlatformWorkedWith','FrameworkWorkedWith','IDE','Gender']\n",
    "\n",
    "df1 = df.loc[:,col_list1]\n",
    "df2 = df1.copy()"
   ]
  },
  {
   "cell_type": "markdown",
   "metadata": {},
   "source": [
    "<b>Gender - 2 categories (Male and Female)"
   ]
  },
  {
   "cell_type": "markdown",
   "metadata": {},
   "source": [
    "There are many values inside gender.<b> We are only interested in 'Male'-1 & 'Female'-0."
   ]
  },
  {
   "cell_type": "code",
   "execution_count": 100,
   "metadata": {},
   "outputs": [],
   "source": [
    "#df1.Gender.unique()\n",
    "\n",
    "#Only Male and Female\n",
    "df2copy = df2.copy()\n",
    "df2copy['Male'] = df2.Gender == 'Male'\n",
    "df2copy['Female'] = df2.Gender == 'Female'\n",
    "df2 =df2.loc[(df2copy.Male == True) | (df2copy.Female == True),:]\n",
    "df2.Gender.replace('Male', 1,inplace=True)\n",
    "df2.Gender.replace('Female', 0,inplace=True)"
   ]
  },
  {
   "cell_type": "markdown",
   "metadata": {},
   "source": [
    "<b>Formal education categories (0 to 4)</b>\n",
    "<ul>\n",
    "    <li>1 - Master 'Masterâ\\x80\\x99s degree (MA, MS, M.Eng., MBA, etc.)',\n",
    "    <li>1 - Doctoral - ''Other doctoral degree (Ph.D, Ed.D., etc.)',\n",
    "    <li>0- for all the below values <ul>\n",
    "        <li>'Primary/elementary school',\n",
    "        <li>'I never completed any formal education',\n",
    "        <li>'Secondary school (e.g. American high school, German Realschule or Gymnasium, etc.)',] \n",
    "        <li>Drop out -'Some college/university study without earning a degree'\n",
    "        <li>Bachelor - 'Bachelorâ\\x80\\x99s degree (BA, BS, B.Eng., etc.)'\n",
    "        <li>Associate degree', 'Professional degree (JD, MD, etc.)'\n",
    "        <li><b>Also, we considered NA's as 0. </ul>"
   ]
  },
  {
   "cell_type": "code",
   "execution_count": 101,
   "metadata": {},
   "outputs": [],
   "source": [
    "df2['HigherEd'] =((df2.FormalEducation.str.match('.*Bachelor.*') * 0) +\\\n",
    "                  (df2.FormalEducation.str.match('.*Master.*') * 1) + \\\n",
    "                  (df2.FormalEducation.str.match('.*doctoral.*')*1)+ \\\n",
    "                  (df2.FormalEducation.str.match('.*Associate.*')*0)+ \\\n",
    "                  (df2.FormalEducation.str.match('.*Primary.*')*0)+ \\\n",
    "                  (df2.FormalEducation.str.match('.*never.*')*0)+\\\n",
    "                  (df2.FormalEducation.str.match('.*Secondary.*')*0)+\\\n",
    "                  (df2.FormalEducation.str.match('.*Drop.*')*0))\n",
    "\n",
    "df2.loc[df2.HigherEd.isna(),'HigherEd']= 0"
   ]
  },
  {
   "cell_type": "markdown",
   "metadata": {},
   "source": [
    "<b> Total technical skills\n",
    "<ul><li><b>Total Languages</b> - Total languages a developer know.\n",
    "    <li><b>Total Dev Types</b> - Total development skills a developer has. \n",
    "        <li><b>Total databases</b> - Total database skills. \n",
    "            <li><b>Total Platform</b> -  Total platforms a developer know. \n",
    "                <li><b>Total Framework</b> - Total frameworks a developer know.\n",
    "                    <li><b>Total IDE'</b> -Total IDE a developer know.\n",
    "                        \n",
    "<li><b><u>Total Technical Skills - Sum of all the above skills."
   ]
  },
  {
   "cell_type": "code",
   "execution_count": 102,
   "metadata": {},
   "outputs": [],
   "source": [
    "df2['Total_Languages'] = df2.LanguageWorkedWith.str.count(';')+1\n",
    "df2['Total_DevTypes'] = df2.DevType.str.count(';')+1\n",
    "df2['Total_Databases'] = df2.DatabaseWorkedWith.str.count(';')+1\n",
    "df2['Total_PlatformWorkedWith'] = df2.PlatformWorkedWith.str.count(';')+1\n",
    "df2['Total_FrameworkWorkedWith'] = df2.FrameworkWorkedWith.str.count(';')+1\n",
    "df2['Total_IDE'] = df2.IDE.str.count(';')+1\n",
    "\n",
    "df2['Total_Tech'] = df2.Total_Languages+df2.Total_DevTypes+df2.Total_Databases+df2.Total_PlatformWorkedWith+df2.Total_FrameworkWorkedWith+df2.Total_IDE"
   ]
  },
  {
   "cell_type": "markdown",
   "metadata": {},
   "source": [
    "<b>Years of coding </b>\n",
    "<ol><li> 0 - 2years \n",
    "    <li> 3 - 5 years\n",
    "    <li> 6-8 years\n",
    "    <li> 9-11 years\n",
    "    <li> 12-14 years\n",
    "    <li> 15-17 years\n",
    "        <li> 18-20 years\n",
    "            <li> 21-23 years\n",
    "                <li> 24-26 years\n",
    "                    <li> 27-29 years\n",
    "                        <li> 30 or more years\n",
    "</ol>\n",
    "<b>NA's are replaced by 1 (i.e. 0-2 years of experience)."
   ]
  },
  {
   "cell_type": "code",
   "execution_count": 103,
   "metadata": {},
   "outputs": [],
   "source": [
    "df2['YearsCodingProf1']=((df2.YearsCodingProf.str.match('.*0-2 years.*') * 1)\\\n",
    "                         +(df2.YearsCodingProf.str.match('.*3-5 years.*') * 2) +\\\n",
    "                         (df2.YearsCodingProf.str.match('.*6-8 years.*') * 3) +\\\n",
    "                         (df2.YearsCodingProf.str.match('.*9-11 years.*') * 4)+\\\n",
    "                         (df2.YearsCodingProf.str.match('.*12-14 years.*') * 5) +\\\n",
    "                         (df2.YearsCodingProf.str.match('.*15-17 years.*') * 6) +\\\n",
    "                         (df2.YearsCodingProf.str.match('.*18-20 years.*') * 7) +\\\n",
    "                         (df2.YearsCodingProf.str.match('.*21-23 years*') * 8) +\\\n",
    "                         (df2.YearsCodingProf.str.match('.*24-26 years.*') * 9) +\\\n",
    "                         (df2.YearsCodingProf.str.match('.*27-29 years.*') * 10) +\\\n",
    "                         (df2.YearsCodingProf.str.match('.*30 or more years.*') * 11))\n",
    "\n",
    "df2.loc[df2.YearsCodingProf1.isna(),'YearsCodingProf1']=1"
   ]
  },
  {
   "cell_type": "markdown",
   "metadata": {},
   "source": [
    "<b>Converted Median Salary</b> - Calculated median salary of each country.\n",
    "\n",
    "We have used median salary instead of mean. It's because we have few outliers in the dataset and median is not affected by outliers.\n",
    "Replaced NA's and zero's with respective country's median salary."
   ]
  },
  {
   "cell_type": "code",
   "execution_count": 104,
   "metadata": {},
   "outputs": [],
   "source": [
    "df2['Country_Median_Salary'] = df2.groupby('Country')['ConvertedSalary'].transform('median')\n",
    "df2.loc[df2.ConvertedSalary.isna(),'ConvertedSalary']=df2['Country_Median_Salary']\n",
    "df2.loc[df2.Total_Tech.isna(),'Total_Tech']=df2.Total_Tech.mean()\n",
    "df2.loc[df2.ConvertedSalary==0,'ConvertedSalary']=df2['Country_Median_Salary']"
   ]
  },
  {
   "cell_type": "markdown",
   "metadata": {},
   "source": [
    "<b>Greater Country Median</b> - Is Developer Salary greater than their country's median salary? 1- Yes, 0- No."
   ]
  },
  {
   "cell_type": "code",
   "execution_count": 105,
   "metadata": {},
   "outputs": [],
   "source": [
    "#Salary greater than country average salary\n",
    "df2['Greater_Country_Median'] = df2.ConvertedSalary > df2.Country_Median_Salary\n",
    "df2.loc[(df2.Greater_Country_Median == True),'Greater_Country_Median'] = 1\n",
    "df2.loc[(df2.Greater_Country_Median == False),'Greater_Country_Median'] = 0"
   ]
  },
  {
   "cell_type": "markdown",
   "metadata": {},
   "source": [
    "<b>Last New Job</b>\n",
    "<ol><li><b>I've never had a job</b>\n",
    "    <li><b>Less than a year ago</b>\n",
    "        <li><b>Between 1 and 2 years ago</b>\n",
    "            <li><b>Between 2 and 4 years ago</b>\n",
    "                <li><b>More than 4 years ago</b>   \n",
    "</ol>\n",
    "Replaced NA's with 1."
   ]
  },
  {
   "cell_type": "code",
   "execution_count": 106,
   "metadata": {},
   "outputs": [],
   "source": [
    "df2['LastNewJob1'] = (df2.LastNewJob.str.match('.*Less.*') * 2)+\\\n",
    "(df2.LastNewJob.str.match('.*More.*') * 5)+\\\n",
    "(df2.LastNewJob.str.match('.*1 and 2.*') * 3)+\\\n",
    "(df2.LastNewJob.str.match('.*2 and 4.*') * 4)+\\\n",
    "(df2.LastNewJob.str.match('.*never.*') * 1)\n",
    "\n",
    "df2.loc[df2.LastNewJob1.isna(),'LastNewJob1']= 1"
   ]
  },
  {
   "cell_type": "code",
   "execution_count": 107,
   "metadata": {},
   "outputs": [],
   "source": [
    "df21 = df2.copy()\n",
    "dfDumb = df2.copy()"
   ]
  },
  {
   "cell_type": "markdown",
   "metadata": {},
   "source": [
    "# <u>3. Interesting Finding Summary "
   ]
  },
  {
   "cell_type": "markdown",
   "metadata": {},
   "source": [
    "Higher education i.e. Masters and Phd's help develpers to get higher salaries.\n",
    "\n",
    "However, higher education can only help you in getting higher salaries in the first few years of your career. As your work experience increases, education does not play significant role. It is your work experience that plays an important role in getting higher salary."
   ]
  },
  {
   "cell_type": "markdown",
   "metadata": {},
   "source": [
    "# <u>4. Machine Learning : Clustering (K-Means)"
   ]
  },
  {
   "cell_type": "markdown",
   "metadata": {},
   "source": [
    "Through clustering we are able to detect two different groups and research further into the differences between them."
   ]
  },
  {
   "cell_type": "code",
   "execution_count": 108,
   "metadata": {},
   "outputs": [],
   "source": [
    "final_col_list1 = ['Total_Tech','Gender','HigherEd',\\\n",
    "                   'YearsCodingProf1','Greater_Country_Median','LastNewJob1']"
   ]
  },
  {
   "cell_type": "code",
   "execution_count": 109,
   "metadata": {},
   "outputs": [],
   "source": [
    "Df_cluster = dfDumb[final_col_list1]"
   ]
  },
  {
   "cell_type": "markdown",
   "metadata": {},
   "source": [
    "Normalizing the variables"
   ]
  },
  {
   "cell_type": "code",
   "execution_count": 110,
   "metadata": {},
   "outputs": [],
   "source": [
    "#Normalize\n",
    "Df_cluster2 = ((Df_cluster - Df_cluster.mean() ) / Df_cluster.std())"
   ]
  },
  {
   "cell_type": "code",
   "execution_count": 111,
   "metadata": {},
   "outputs": [],
   "source": [
    "from sklearn.cluster import KMeans\n",
    "clu = KMeans(n_clusters=2,random_state=0)"
   ]
  },
  {
   "cell_type": "code",
   "execution_count": 112,
   "metadata": {
    "scrolled": true
   },
   "outputs": [
    {
     "data": {
      "text/plain": [
       "KMeans(algorithm='auto', copy_x=True, init='k-means++', max_iter=300,\n",
       "    n_clusters=2, n_init=10, n_jobs=1, precompute_distances='auto',\n",
       "    random_state=0, tol=0.0001, verbose=0)"
      ]
     },
     "execution_count": 112,
     "metadata": {},
     "output_type": "execute_result"
    }
   ],
   "source": [
    "clu.fit(Df_cluster2)"
   ]
  },
  {
   "cell_type": "code",
   "execution_count": 113,
   "metadata": {
    "scrolled": false
   },
   "outputs": [
    {
     "data": {
      "text/html": [
       "<div>\n",
       "<style scoped>\n",
       "    .dataframe tbody tr th:only-of-type {\n",
       "        vertical-align: middle;\n",
       "    }\n",
       "\n",
       "    .dataframe tbody tr th {\n",
       "        vertical-align: top;\n",
       "    }\n",
       "\n",
       "    .dataframe thead th {\n",
       "        text-align: right;\n",
       "    }\n",
       "</style>\n",
       "<table border=\"1\" class=\"dataframe\">\n",
       "  <thead>\n",
       "    <tr style=\"text-align: right;\">\n",
       "      <th>cluster</th>\n",
       "      <th>0</th>\n",
       "      <th>1</th>\n",
       "    </tr>\n",
       "  </thead>\n",
       "  <tbody>\n",
       "    <tr>\n",
       "      <th>Total_Tech</th>\n",
       "      <td>22.232521</td>\n",
       "      <td>22.290570</td>\n",
       "    </tr>\n",
       "    <tr>\n",
       "      <th>Gender</th>\n",
       "      <td>0.921571</td>\n",
       "      <td>0.960742</td>\n",
       "    </tr>\n",
       "    <tr>\n",
       "      <th>HigherEd</th>\n",
       "      <td>0.195267</td>\n",
       "      <td>0.348965</td>\n",
       "    </tr>\n",
       "    <tr>\n",
       "      <th>YearsCodingProf1</th>\n",
       "      <td>1.936240</td>\n",
       "      <td>4.507597</td>\n",
       "    </tr>\n",
       "    <tr>\n",
       "      <th>Greater_Country_Median</th>\n",
       "      <td>0.002147</td>\n",
       "      <td>0.870811</td>\n",
       "    </tr>\n",
       "    <tr>\n",
       "      <th>LastNewJob1</th>\n",
       "      <td>2.782653</td>\n",
       "      <td>3.563486</td>\n",
       "    </tr>\n",
       "  </tbody>\n",
       "</table>\n",
       "</div>"
      ],
      "text/plain": [
       "cluster                         0          1\n",
       "Total_Tech              22.232521  22.290570\n",
       "Gender                   0.921571   0.960742\n",
       "HigherEd                 0.195267   0.348965\n",
       "YearsCodingProf1         1.936240   4.507597\n",
       "Greater_Country_Median   0.002147   0.870811\n",
       "LastNewJob1              2.782653   3.563486"
      ]
     },
     "execution_count": 113,
     "metadata": {},
     "output_type": "execute_result"
    }
   ],
   "source": [
    "Df_cluster['cluster'] = clu.labels_\n",
    "Df_cluster.groupby('cluster').mean().T"
   ]
  },
  {
   "cell_type": "markdown",
   "metadata": {},
   "source": [
    "As we can see in the above table (Clustering output), there are two different groups.\n",
    "<ol><li><b>Cluster 0</b>- represents people who have less than their country's median salary.\n",
    "    <li><b>Cluster 1</b>- represents people who have more than their country's median Salary.\n",
    "        \n",
    "<b>Also, after looking at the different characteristics, we can see that there is a significant difference in higher education and coding experience between these two clusters. Cluster 1 has significant higher coding experience than Cluster 0."
   ]
  },
  {
   "cell_type": "markdown",
   "metadata": {},
   "source": [
    "# <u>5. Validity of the Finding"
   ]
  },
  {
   "cell_type": "markdown",
   "metadata": {},
   "source": [
    "Below graph indicates that the higher education i.e. Masters and Phd's <b>indeed</b> help develpers to get higher salaries. The difference is of 15 percentage points."
   ]
  },
  {
   "cell_type": "code",
   "execution_count": 114,
   "metadata": {
    "scrolled": true
   },
   "outputs": [
    {
     "data": {
      "image/png": "[encoded data removed]",
      "text/plain": [
       "<matplotlib.figure.Figure at 0x1d26831a8d0>"
      ]
     },
     "metadata": {},
     "output_type": "display_data"
    }
   ],
   "source": [
    "B = sns.catplot(data=df2,x='HigherEd',y='Greater_Country_Median',kind='bar',aspect=1)"
   ]
  },
  {
   "cell_type": "markdown",
   "metadata": {},
   "source": [
    "However, if we look at graph 2 (below) i.e. higher education can only help you in getting higher salaries in the first few years of your career. As your work experience increases, education does not play significant role.\n",
    "\n",
    "<b>After 9 years of work experience (coded as 4), your education does not matter in getting salary greater than their country's median salary."
   ]
  },
  {
   "cell_type": "code",
   "execution_count": 115,
   "metadata": {
    "scrolled": true
   },
   "outputs": [
    {
     "data": {
      "image/png": "[encoded data removed]",
      "text/plain": [
       "<matplotlib.figure.Figure at 0x1d26d5c7dd8>"
      ]
     },
     "metadata": {},
     "output_type": "display_data"
    }
   ],
   "source": [
    "B = sns.catplot(data=df2,x='YearsCodingProf1',y='Greater_Country_Median',kind='point',aspect=2, hue ='HigherEd')"
   ]
  },
  {
   "cell_type": "markdown",
   "metadata": {},
   "source": [
    "# <u><b>6. Managerial Insights"
   ]
  },
  {
   "cell_type": "markdown",
   "metadata": {},
   "source": [
    "<b>For freshers</b>, if you do master's you can earn higher than your colleagues at the start of your career. However, in long run your experience determines your salaries.\n",
    "\n",
    "<b>For working professional</b> with more than 9 years of experience, there is no advantage in terms of salaries. So, for these people doing master's is not desirable in orde to increase their salary."
   ]
  },
  {
   "cell_type": "markdown",
   "metadata": {},
   "source": [
    "# <u>7. Appendix - Decision Tree"
   ]
  },
  {
   "cell_type": "markdown",
   "metadata": {},
   "source": [
    "The below decision tree also indicates that the people with higher work experience have higher probability of earning salaries greater than their country's median salary."
   ]
  },
  {
   "cell_type": "code",
   "execution_count": 94,
   "metadata": {},
   "outputs": [],
   "source": [
    "import sklearn.tree as tree\n",
    "from IPython.display import Image  \n",
    "import pydotplus\n",
    "\n",
    "import warnings\n",
    "warnings.filterwarnings('ignore')"
   ]
  },
  {
   "cell_type": "code",
   "execution_count": 95,
   "metadata": {},
   "outputs": [],
   "source": [
    "Y = Df_cluster.cluster\n",
    "#X = Df_cluster.drop(columns=['Greater_Country_Median','cluster'])\n",
    "X = Df_cluster.drop(columns=['Greater_Country_Median','cluster'])"
   ]
  },
  {
   "cell_type": "code",
   "execution_count": 96,
   "metadata": {},
   "outputs": [
    {
     "data": {
      "text/plain": [
       "DecisionTreeClassifier(class_weight=None, criterion='gini', max_depth=2,\n",
       "            max_features=None, max_leaf_nodes=None,\n",
       "            min_impurity_decrease=0.0, min_impurity_split=None,\n",
       "            min_samples_leaf=1, min_samples_split=2,\n",
       "            min_weight_fraction_leaf=0.0, presort=False, random_state=None,\n",
       "            splitter='best')"
      ]
     },
     "execution_count": 96,
     "metadata": {},
     "output_type": "execute_result"
    }
   ],
   "source": [
    "dt = tree.DecisionTreeClassifier(max_depth = 2)\n",
    "dt.fit(X,Y)"
   ]
  },
  {
   "cell_type": "code",
   "execution_count": 97,
   "metadata": {},
   "outputs": [
    {
     "data": {
      "image/png": "[encoded data removed]",
      "text/plain": [
       "<IPython.core.display.Image object>"
      ]
     },
     "execution_count": 97,
     "metadata": {},
     "output_type": "execute_result"
    }
   ],
   "source": [
    "# This code will visualize a decision tree dt, trained with the attributes in X and the class labels in Y\n",
    "dt_feature_names = list(X.columns)\n",
    "dt_target_names = np.array(Y.unique(),dtype=np.str) \n",
    "tree.export_graphviz(dt, out_file='tree.dot', \n",
    "    feature_names=dt_feature_names, class_names=dt_target_names,\n",
    "    filled=True)  \n",
    "graph = pydotplus.graph_from_dot_file('tree.dot')\n",
    "Image(graph.create_png())"
   ]
  },
  {
   "cell_type": "markdown",
   "metadata": {},
   "source": [
    "------------------------- END OF THE DOCUMENT -------------------------"
   ]
  }
 ],
 "metadata": {
  "kernelspec": {
   "display_name": "Python 3",
   "language": "python",
   "name": "python3"
  },
  "language_info": {
   "codemirror_mode": {
    "name": "ipython",
    "version": 3
   },
   "file_extension": ".py",
   "mimetype": "text/x-python",
   "name": "python",
   "nbconvert_exporter": "python",
   "pygments_lexer": "ipython3",
   "version": "3.6.4"
  }
 },
 "nbformat": 4,
 "nbformat_minor": 2
}
